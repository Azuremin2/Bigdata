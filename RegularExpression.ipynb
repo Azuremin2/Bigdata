{
 "cells": [
  {
   "attachments": {},
   "cell_type": "markdown",
   "metadata": {},
   "source": [
    "## 정규 표현식 (Regular Expressions)\n",
    "\n",
    "정규 표현식은 텍스트에서 특정 패턴을 검색하고 매칭시키는 도구입니다.  \n",
    "이는 파이썬을 포함한 다양한 프로그래밍 언어에서 지원되며, 문자열 처리 작업을 보다 쉽게 수행할 수 있게 해줍니다.  \n",
    "<br>\n",
    "\n",
    "### 정규 표현식의 필요성\n",
    "\n",
    "정규 표현식은 다음과 같은 상황에서 유용합니다:\n",
    "\n",
    "- 문자열에서 특정 패턴을 찾고 싶을 때\n",
    "- 문자열을 특정 기준에 따라 분리하고 싶을 때\n",
    "- 문자열에서 특정 부분을 추출하고 싶을 때  \n",
    "- 문자열에 대한 유효성 검사를 수행하고 싶을 때    \n",
    "<br>\n",
    "\n",
    "### 파이썬에서의 기본 사용법\n",
    "\n",
    "파이썬에서는 `re` 모듈을 사용하여 정규 표현식을 다룰 수 있습니다.  \n",
    "주요 함수로는 `search()`, `match()`, `findall()`, `sub()` 등이 있습니다. "
   ]
  },
  {
   "attachments": {},
   "cell_type": "markdown",
   "metadata": {},
   "source": [
    "### search()"
   ]
  },
  {
   "cell_type": "code",
   "execution_count": 1,
   "metadata": {},
   "outputs": [
    {
     "name": "stdout",
     "output_type": "stream",
     "text": [
      "Pattern found!\n"
     ]
    }
   ],
   "source": [
    "import re\n",
    "\n",
    "text = \"Hello, World!\"\n",
    "pattern = r\"World\"\n",
    "match = re.search(pattern, text)\n",
    "if match:\n",
    "    print(\"Pattern found!\")\n",
    "else:\n",
    "    print(\"Pattern not found!\")\n"
   ]
  },
  {
   "attachments": {},
   "cell_type": "markdown",
   "metadata": {},
   "source": [
    "### match()"
   ]
  },
  {
   "cell_type": "code",
   "execution_count": null,
   "metadata": {},
   "outputs": [],
   "source": [
    "import re\n",
    "\n",
    "text = \"Hello, World!\"\n",
    "pattern = r\"Hello\"\n",
    "match = re.match(pattern, text)\n",
    "if match:\n",
    "    print(\"Pattern found!\")\n",
    "else:\n",
    "    print(\"Pattern not found!\")\n"
   ]
  },
  {
   "attachments": {},
   "cell_type": "markdown",
   "metadata": {},
   "source": [
    "### findall()"
   ]
  },
  {
   "cell_type": "code",
   "execution_count": null,
   "metadata": {},
   "outputs": [],
   "source": [
    "import re\n",
    "\n",
    "text = \"Hello, World!\"\n",
    "pattern = r\"\\w+\"\n",
    "matches = re.findall(pattern, text)\n",
    "print(matches)\n"
   ]
  },
  {
   "attachments": {},
   "cell_type": "markdown",
   "metadata": {},
   "source": [
    "### sub()"
   ]
  },
  {
   "cell_type": "code",
   "execution_count": null,
   "metadata": {},
   "outputs": [],
   "source": [
    "import re\n",
    "\n",
    "text = \"Hello, World!\"\n",
    "pattern = r\"World\"\n",
    "replacement = \"Python\"\n",
    "new_text = re.sub(pattern, replacement, text)\n",
    "print(new_text)"
   ]
  }
 ],
 "metadata": {
  "kernelspec": {
   "display_name": "ml",
   "language": "python",
   "name": "python3"
  },
  "language_info": {
   "codemirror_mode": {
    "name": "ipython",
    "version": 3
   },
   "file_extension": ".py",
   "mimetype": "text/x-python",
   "name": "python",
   "nbconvert_exporter": "python",
   "pygments_lexer": "ipython3",
   "version": "3.10.9"
  },
  "orig_nbformat": 4
 },
 "nbformat": 4,
 "nbformat_minor": 2
}
